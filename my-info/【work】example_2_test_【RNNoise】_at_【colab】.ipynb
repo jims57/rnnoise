{
  "cells": [
    {
      "cell_type": "markdown",
      "metadata": {
        "id": "-tnRWJHloXEH"
      },
      "source": [
        "# Clone RNNoise"
      ]
    },
    {
      "cell_type": "code",
      "execution_count": null,
      "metadata": {
        "id": "lZjcWfr5ogUz"
      },
      "outputs": [],
      "source": [
        "!git clone https://github.com/xiph/rnnoise.git"
      ]
    },
    {
      "cell_type": "markdown",
      "metadata": {
        "id": "6uQQERm-rpS2"
      },
      "source": [
        "# Prepare pcm"
      ]
    },
    {
      "cell_type": "markdown",
      "metadata": {
        "id": "aFeBnEdjn9xD"
      },
      "source": [
        "## Download wav\n"
      ]
    },
    {
      "cell_type": "code",
      "execution_count": null,
      "metadata": {
        "id": "ysfdwA3Oq5QD"
      },
      "outputs": [],
      "source": [
        "# prompt: download this(https://github.com/jims57/rnnoise/blob/main/my-info/wavs/wm_clap_vad.wav) into /content/rnnoise/examples\n",
        "\n",
        "# Clone RNNoise\n",
        "!git clone https://github.com/xiph/rnnoise.git\n",
        "# Download wav\n",
        "!wget https://github.com/jims57/rnnoise/raw/main/my-info/wavs/wm_clap_vad.wav -P /content/rnnoise/examples/"
      ]
    },
    {
      "cell_type": "markdown",
      "metadata": {
        "id": "L0wto_zerHOa"
      },
      "source": [
        "## Convert wav to 48khz and mono"
      ]
    },
    {
      "cell_type": "code",
      "execution_count": null,
      "metadata": {
        "id": "5TFmgjcyrIbS"
      },
      "outputs": [],
      "source": [
        "!ffmpeg -i /content/rnnoise/examples/wm_clap_vad.wav -acodec pcm_s16le -ar 48000 -ac 1 /content/rnnoise/examples/wm_clap_vad_48k_mono.wav"
      ]
    },
    {
      "cell_type": "markdown",
      "metadata": {
        "id": "j7cHoNVkrZrr"
      },
      "source": [
        "## Convert wav into pcm"
      ]
    },
    {
      "cell_type": "code",
      "execution_count": null,
      "metadata": {
        "id": "9TaeU86KrbrL"
      },
      "outputs": [],
      "source": [
        "!ffmpeg -i /content/rnnoise/examples/wm_clap_vad_48k_mono.wav -acodec pcm_s16le -f s16le -ar 48000 -ac 1 /content/rnnoise/examples/noisy_speech.pcm"
      ]
    },
    {
      "cell_type": "markdown",
      "metadata": {
        "id": "rSxP3WaVsms2"
      },
      "source": [
        "# Download model"
      ]
    },
    {
      "cell_type": "code",
      "execution_count": null,
      "metadata": {
        "id": "iZ4EnWD_soCL"
      },
      "outputs": [],
      "source": [
        "%cd /content/rnnoise\n",
        "!/content/rnnoise/download_model.sh"
      ]
    },
    {
      "cell_type": "markdown",
      "metadata": {
        "id": "Xfn6xnLJrzTo"
      },
      "source": [
        "# (work)Build RNNoise"
      ]
    },
    {
      "cell_type": "code",
      "execution_count": null,
      "metadata": {
        "id": "B8pHcwZZsAk_"
      },
      "outputs": [],
      "source": [
        "# Check available source files\n",
        "%cd /content/rnnoise\n",
        "!ls -la src/\n",
        "\n",
        "# Compile all available C files in the src directory\n",
        "!mkdir -p build\n",
        "%cd build\n",
        "!gcc -c -I.. -I../include -I../src ../src/*.c\n",
        "\n",
        "# Create a static library\n",
        "!ar rcs librnnoise.a *.o\n",
        "\n",
        "# Compile the demo with our new library\n",
        "%cd /content/rnnoise/examples\n",
        "!gcc -o rnnoise_demo rnnoise_demo.c -I../include -L../build -lrnnoise -lm\n",
        "\n",
        "# If compilation works, run the demo\n",
        "!./rnnoise_demo noisy_speech.pcm denoised_speech.pcm"
      ]
    },
    {
      "cell_type": "markdown",
      "metadata": {
        "id": "o2PdJEC_tD2u"
      },
      "source": [
        "# Run demo"
      ]
    },
    {
      "cell_type": "code",
      "execution_count": null,
      "metadata": {
        "id": "DwRRNPrutL8d"
      },
      "outputs": [],
      "source": [
        "!./rnnoise_demo noisy_speech.pcm denoised_speech.pcm"
      ]
    },
    {
      "cell_type": "markdown",
      "metadata": {
        "id": "H9HPS3KgtR1a"
      },
      "source": [
        "# Convert pcm back to wav"
      ]
    },
    {
      "cell_type": "code",
      "execution_count": null,
      "metadata": {
        "id": "HJucDpPftWDy"
      },
      "outputs": [],
      "source": [
        "# prompt: convert this (/content/rnnoise/examples/denoised_speech.pcm) into wav with 48khz and mono, after wav is saved, convert the saved wav from 48khz to 16khz, and then download the converted 16khz wav, don't need user confirmation to operate.\n",
        "\n",
        "!ffmpeg -f s16le -ar 48000 -ac 1 -i /content/rnnoise/examples/denoised_speech.pcm -acodec pcm_s16le -ar 48000 -ac 1 /content/rnnoise/examples/denoised_speech_48k.wav\n",
        "!ffmpeg -i /content/rnnoise/examples/denoised_speech_48k.wav -acodec pcm_s16le -ar 16000 -ac 1 /content/rnnoise/examples/denoised_speech_16k.wav\n",
        "from google.colab import files\n",
        "files.download('/content/rnnoise/examples/denoised_speech_16k.wav')"
      ]
    }
  ],
  "metadata": {
    "colab": {
      "collapsed_sections": [
        "rSxP3WaVsms2"
      ],
      "provenance": []
    },
    "kernelspec": {
      "display_name": "Python 3",
      "name": "python3"
    },
    "language_info": {
      "name": "python"
    }
  },
  "nbformat": 4,
  "nbformat_minor": 0
}
